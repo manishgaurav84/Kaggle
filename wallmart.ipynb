{
 "metadata": {
  "name": "",
  "signature": "sha256:33297b6180ffee64e3339b1d6cc5221831298be9a561e161a163d8f25641fe8e"
 },
 "nbformat": 3,
 "nbformat_minor": 0,
 "worksheets": [
  {
   "cells": [
    {
     "cell_type": "code",
     "collapsed": false,
     "input": [
      "import pandas as pd\n",
      "import numpy as np\n",
      "import matplotlib.pyplot as plt\n",
      "%matplotlib inline"
     ],
     "language": "python",
     "metadata": {},
     "outputs": [],
     "prompt_number": 265
    },
    {
     "cell_type": "code",
     "collapsed": false,
     "input": [
      "#read all datasets\n",
      "key = pd.read_csv('key.csv')\n",
      "weather = pd.read_csv('weather.csv')\n",
      "test = pd.read_csv('test.csv')\n",
      "train = pd.read_csv('train.csv')\n",
      "\n"
     ],
     "language": "python",
     "metadata": {},
     "outputs": [
      {
       "output_type": "stream",
       "stream": "stdout",
       "text": [
        "(20517, 20)\n"
       ]
      }
     ],
     "prompt_number": 321
    },
    {
     "cell_type": "code",
     "collapsed": false,
     "input": [
      "# print len(train.date.unique())\n",
      "# print len(weather.date.unique())\n",
      "# print train.tail(4)\n",
      "#print train[train.date == '2014-10-26']\n",
      "key[key.station_nbr==5]"
     ],
     "language": "python",
     "metadata": {},
     "outputs": [
      {
       "html": [
        "<div style=\"max-height:1000px;max-width:1500px;overflow:auto;\">\n",
        "<table border=\"1\" class=\"dataframe\">\n",
        "  <thead>\n",
        "    <tr style=\"text-align: right;\">\n",
        "      <th></th>\n",
        "      <th>store_nbr</th>\n",
        "      <th>station_nbr</th>\n",
        "    </tr>\n",
        "  </thead>\n",
        "  <tbody>\n",
        "    <tr>\n",
        "      <th>34</th>\n",
        "      <td> 35</td>\n",
        "      <td> 5</td>\n",
        "    </tr>\n",
        "  </tbody>\n",
        "</table>\n",
        "</div>"
       ],
       "metadata": {},
       "output_type": "pyout",
       "prompt_number": 441,
       "text": [
        "    store_nbr  station_nbr\n",
        "34         35            5"
       ]
      }
     ],
     "prompt_number": 441
    },
    {
     "cell_type": "code",
     "collapsed": false,
     "input": [
      "print weather.shape\n",
      "print train.shape"
     ],
     "language": "python",
     "metadata": {},
     "outputs": [
      {
       "output_type": "stream",
       "stream": "stdout",
       "text": [
        "(20517, 20)\n",
        "(4617600, 4)\n"
       ]
      }
     ],
     "prompt_number": 322
    },
    {
     "cell_type": "code",
     "collapsed": false,
     "input": [
      "weather_event = weather[['date', 'station_nbr','snowfall', 'preciptotal']]\n",
      "#weather_event.merge(train, on=['date', ])\n",
      "import datetime\n",
      "def convert_date_format(date):\n",
      "    return datetime.datetime.strptime(date, '%d-%m-%Y').strftime('%Y-%m-%d')\n",
      "weather_event['date'] = map(convert_date_format, weather_event['date'])"
     ],
     "language": "python",
     "metadata": {},
     "outputs": [],
     "prompt_number": 311
    },
    {
     "cell_type": "code",
     "collapsed": false,
     "input": [
      "train_key= train.merge(key, on='store_nbr')\n",
      "train_key.head(3)"
     ],
     "language": "python",
     "metadata": {},
     "outputs": [
      {
       "html": [
        "<div style=\"max-height:1000px;max-width:1500px;overflow:auto;\">\n",
        "<table border=\"1\" class=\"dataframe\">\n",
        "  <thead>\n",
        "    <tr style=\"text-align: right;\">\n",
        "      <th></th>\n",
        "      <th>date</th>\n",
        "      <th>store_nbr</th>\n",
        "      <th>item_nbr</th>\n",
        "      <th>units</th>\n",
        "      <th>station_nbr</th>\n",
        "    </tr>\n",
        "  </thead>\n",
        "  <tbody>\n",
        "    <tr>\n",
        "      <th>0</th>\n",
        "      <td> 2012-01-01</td>\n",
        "      <td> 1</td>\n",
        "      <td> 1</td>\n",
        "      <td> 0</td>\n",
        "      <td> 1</td>\n",
        "    </tr>\n",
        "    <tr>\n",
        "      <th>1</th>\n",
        "      <td> 2012-01-01</td>\n",
        "      <td> 1</td>\n",
        "      <td> 2</td>\n",
        "      <td> 0</td>\n",
        "      <td> 1</td>\n",
        "    </tr>\n",
        "    <tr>\n",
        "      <th>2</th>\n",
        "      <td> 2012-01-01</td>\n",
        "      <td> 1</td>\n",
        "      <td> 3</td>\n",
        "      <td> 0</td>\n",
        "      <td> 1</td>\n",
        "    </tr>\n",
        "  </tbody>\n",
        "</table>\n",
        "</div>"
       ],
       "metadata": {},
       "output_type": "pyout",
       "prompt_number": 312,
       "text": [
        "         date  store_nbr  item_nbr  units  station_nbr\n",
        "0  2012-01-01          1         1      0            1\n",
        "1  2012-01-01          1         2      0            1\n",
        "2  2012-01-01          1         3      0            1"
       ]
      }
     ],
     "prompt_number": 312
    },
    {
     "cell_type": "code",
     "collapsed": false,
     "input": [
      "print train_key.shape"
     ],
     "language": "python",
     "metadata": {},
     "outputs": [
      {
       "output_type": "stream",
       "stream": "stdout",
       "text": [
        "(4617600, 5)\n"
       ]
      }
     ],
     "prompt_number": 323
    },
    {
     "cell_type": "code",
     "collapsed": false,
     "input": [
      "train_key_weather_event = weather_event.merge(train_key, on=['date','station_nbr'])"
     ],
     "language": "python",
     "metadata": {},
     "outputs": [],
     "prompt_number": 319
    },
    {
     "cell_type": "code",
     "collapsed": false,
     "input": [],
     "language": "python",
     "metadata": {},
     "outputs": []
    },
    {
     "cell_type": "code",
     "collapsed": false,
     "input": [
      "train_key_weather_event.shape"
     ],
     "language": "python",
     "metadata": {},
     "outputs": [
      {
       "metadata": {},
       "output_type": "pyout",
       "prompt_number": 320,
       "text": [
        "(4617600, 7)"
       ]
      }
     ],
     "prompt_number": 320
    },
    {
     "cell_type": "code",
     "collapsed": false,
     "input": [
      "d = {}\n",
      "for row in key.values:\n",
      "    if(d.has_key(row[1])):\n",
      "        d[row[1]].append(row[0])\n",
      "    else:\n",
      "        d[row[1]] = [row[0]]\n",
      "d"
     ],
     "language": "python",
     "metadata": {},
     "outputs": [
      {
       "metadata": {},
       "output_type": "pyout",
       "prompt_number": 317,
       "text": [
        "{1: [1],\n",
        " 2: [16],\n",
        " 3: [21, 29, 33],\n",
        " 4: [8],\n",
        " 5: [35],\n",
        " 6: [7, 13],\n",
        " 7: [3, 20, 28],\n",
        " 8: [39],\n",
        " 9: [4, 24],\n",
        " 10: [11, 22, 27],\n",
        " 11: [12, 43],\n",
        " 12: [5, 10, 41, 44],\n",
        " 13: [15, 25, 32, 37, 40],\n",
        " 14: [2, 6, 38, 42],\n",
        " 15: [19],\n",
        " 16: [14, 45],\n",
        " 17: [9, 18, 23, 26, 31, 34],\n",
        " 18: [36],\n",
        " 19: [30],\n",
        " 20: [17]}"
       ]
      }
     ],
     "prompt_number": 317
    },
    {
     "cell_type": "code",
     "collapsed": false,
     "input": [
      "df = train[train['date'] == '2012-01-01']"
     ],
     "language": "python",
     "metadata": {},
     "outputs": [],
     "prompt_number": 259
    },
    {
     "cell_type": "code",
     "collapsed": false,
     "input": [
      "train[train['units'] == df.groupby('store_nbr')['units'].max()]"
     ],
     "language": "python",
     "metadata": {},
     "outputs": [
      {
       "ename": "ValueError",
       "evalue": "Series lengths must match to compare",
       "output_type": "pyerr",
       "traceback": [
        "\u001b[1;31m---------------------------------------------------------------------------\u001b[0m\n\u001b[1;31mValueError\u001b[0m                                Traceback (most recent call last)",
        "\u001b[1;32m<ipython-input-263-6a5c7356d4b6>\u001b[0m in \u001b[0;36m<module>\u001b[1;34m()\u001b[0m\n\u001b[1;32m----> 1\u001b[1;33m \u001b[0mtrain\u001b[0m\u001b[1;33m[\u001b[0m\u001b[0mtrain\u001b[0m\u001b[1;33m[\u001b[0m\u001b[1;34m'units'\u001b[0m\u001b[1;33m]\u001b[0m \u001b[1;33m==\u001b[0m \u001b[0mdf\u001b[0m\u001b[1;33m.\u001b[0m\u001b[0mgroupby\u001b[0m\u001b[1;33m(\u001b[0m\u001b[1;34m'store_nbr'\u001b[0m\u001b[1;33m)\u001b[0m\u001b[1;33m[\u001b[0m\u001b[1;34m'units'\u001b[0m\u001b[1;33m]\u001b[0m\u001b[1;33m.\u001b[0m\u001b[0mmax\u001b[0m\u001b[1;33m(\u001b[0m\u001b[1;33m)\u001b[0m\u001b[1;33m]\u001b[0m\u001b[1;33m\u001b[0m\u001b[0m\n\u001b[0m",
        "\u001b[1;32mC:\\Users\\gmanish\\AppData\\Local\\Continuum\\Anaconda\\lib\\site-packages\\pandas\\core\\ops.pyc\u001b[0m in \u001b[0;36mwrapper\u001b[1;34m(self, other)\u001b[0m\n\u001b[0;32m    549\u001b[0m             \u001b[0mname\u001b[0m \u001b[1;33m=\u001b[0m \u001b[0m_maybe_match_name\u001b[0m\u001b[1;33m(\u001b[0m\u001b[0mself\u001b[0m\u001b[1;33m,\u001b[0m \u001b[0mother\u001b[0m\u001b[1;33m)\u001b[0m\u001b[1;33m\u001b[0m\u001b[0m\n\u001b[0;32m    550\u001b[0m             \u001b[1;32mif\u001b[0m \u001b[0mlen\u001b[0m\u001b[1;33m(\u001b[0m\u001b[0mself\u001b[0m\u001b[1;33m)\u001b[0m \u001b[1;33m!=\u001b[0m \u001b[0mlen\u001b[0m\u001b[1;33m(\u001b[0m\u001b[0mother\u001b[0m\u001b[1;33m)\u001b[0m\u001b[1;33m:\u001b[0m\u001b[1;33m\u001b[0m\u001b[0m\n\u001b[1;32m--> 551\u001b[1;33m                 \u001b[1;32mraise\u001b[0m \u001b[0mValueError\u001b[0m\u001b[1;33m(\u001b[0m\u001b[1;34m'Series lengths must match to compare'\u001b[0m\u001b[1;33m)\u001b[0m\u001b[1;33m\u001b[0m\u001b[0m\n\u001b[0m\u001b[0;32m    552\u001b[0m             return self._constructor(na_op(self.values, other.values),\n\u001b[0;32m    553\u001b[0m                                      index=self.index, name=name)\n",
        "\u001b[1;31mValueError\u001b[0m: Series lengths must match to compare"
       ]
      }
     ],
     "prompt_number": 263
    },
    {
     "cell_type": "code",
     "collapsed": false,
     "input": [
      "test[(test.date=='2014-10-26')]"
     ],
     "language": "python",
     "metadata": {},
     "outputs": [
      {
       "html": [
        "<div style=\"max-height:1000px;max-width:1500px;overflow:auto;\">\n",
        "<table border=\"1\" class=\"dataframe\">\n",
        "  <thead>\n",
        "    <tr style=\"text-align: right;\">\n",
        "      <th></th>\n",
        "      <th>date</th>\n",
        "      <th>store_nbr</th>\n",
        "      <th>item_nbr</th>\n",
        "    </tr>\n",
        "  </thead>\n",
        "  <tbody>\n",
        "    <tr>\n",
        "      <th>526362</th>\n",
        "      <td> 2014-10-26</td>\n",
        "      <td>  1</td>\n",
        "      <td>   1</td>\n",
        "    </tr>\n",
        "    <tr>\n",
        "      <th>526363</th>\n",
        "      <td> 2014-10-26</td>\n",
        "      <td>  1</td>\n",
        "      <td>   2</td>\n",
        "    </tr>\n",
        "    <tr>\n",
        "      <th>526364</th>\n",
        "      <td> 2014-10-26</td>\n",
        "      <td>  1</td>\n",
        "      <td>   3</td>\n",
        "    </tr>\n",
        "    <tr>\n",
        "      <th>526365</th>\n",
        "      <td> 2014-10-26</td>\n",
        "      <td>  1</td>\n",
        "      <td>   4</td>\n",
        "    </tr>\n",
        "    <tr>\n",
        "      <th>526366</th>\n",
        "      <td> 2014-10-26</td>\n",
        "      <td>  1</td>\n",
        "      <td>   5</td>\n",
        "    </tr>\n",
        "    <tr>\n",
        "      <th>526367</th>\n",
        "      <td> 2014-10-26</td>\n",
        "      <td>  1</td>\n",
        "      <td>   6</td>\n",
        "    </tr>\n",
        "    <tr>\n",
        "      <th>526368</th>\n",
        "      <td> 2014-10-26</td>\n",
        "      <td>  1</td>\n",
        "      <td>   7</td>\n",
        "    </tr>\n",
        "    <tr>\n",
        "      <th>526369</th>\n",
        "      <td> 2014-10-26</td>\n",
        "      <td>  1</td>\n",
        "      <td>   8</td>\n",
        "    </tr>\n",
        "    <tr>\n",
        "      <th>526370</th>\n",
        "      <td> 2014-10-26</td>\n",
        "      <td>  1</td>\n",
        "      <td>   9</td>\n",
        "    </tr>\n",
        "    <tr>\n",
        "      <th>526371</th>\n",
        "      <td> 2014-10-26</td>\n",
        "      <td>  1</td>\n",
        "      <td>  10</td>\n",
        "    </tr>\n",
        "    <tr>\n",
        "      <th>526372</th>\n",
        "      <td> 2014-10-26</td>\n",
        "      <td>  1</td>\n",
        "      <td>  11</td>\n",
        "    </tr>\n",
        "    <tr>\n",
        "      <th>526373</th>\n",
        "      <td> 2014-10-26</td>\n",
        "      <td>  1</td>\n",
        "      <td>  12</td>\n",
        "    </tr>\n",
        "    <tr>\n",
        "      <th>526374</th>\n",
        "      <td> 2014-10-26</td>\n",
        "      <td>  1</td>\n",
        "      <td>  13</td>\n",
        "    </tr>\n",
        "    <tr>\n",
        "      <th>526375</th>\n",
        "      <td> 2014-10-26</td>\n",
        "      <td>  1</td>\n",
        "      <td>  14</td>\n",
        "    </tr>\n",
        "    <tr>\n",
        "      <th>526376</th>\n",
        "      <td> 2014-10-26</td>\n",
        "      <td>  1</td>\n",
        "      <td>  15</td>\n",
        "    </tr>\n",
        "    <tr>\n",
        "      <th>526377</th>\n",
        "      <td> 2014-10-26</td>\n",
        "      <td>  1</td>\n",
        "      <td>  16</td>\n",
        "    </tr>\n",
        "    <tr>\n",
        "      <th>526378</th>\n",
        "      <td> 2014-10-26</td>\n",
        "      <td>  1</td>\n",
        "      <td>  17</td>\n",
        "    </tr>\n",
        "    <tr>\n",
        "      <th>526379</th>\n",
        "      <td> 2014-10-26</td>\n",
        "      <td>  1</td>\n",
        "      <td>  18</td>\n",
        "    </tr>\n",
        "    <tr>\n",
        "      <th>526380</th>\n",
        "      <td> 2014-10-26</td>\n",
        "      <td>  1</td>\n",
        "      <td>  19</td>\n",
        "    </tr>\n",
        "    <tr>\n",
        "      <th>526381</th>\n",
        "      <td> 2014-10-26</td>\n",
        "      <td>  1</td>\n",
        "      <td>  20</td>\n",
        "    </tr>\n",
        "    <tr>\n",
        "      <th>526382</th>\n",
        "      <td> 2014-10-26</td>\n",
        "      <td>  1</td>\n",
        "      <td>  21</td>\n",
        "    </tr>\n",
        "    <tr>\n",
        "      <th>526383</th>\n",
        "      <td> 2014-10-26</td>\n",
        "      <td>  1</td>\n",
        "      <td>  22</td>\n",
        "    </tr>\n",
        "    <tr>\n",
        "      <th>526384</th>\n",
        "      <td> 2014-10-26</td>\n",
        "      <td>  1</td>\n",
        "      <td>  23</td>\n",
        "    </tr>\n",
        "    <tr>\n",
        "      <th>526385</th>\n",
        "      <td> 2014-10-26</td>\n",
        "      <td>  1</td>\n",
        "      <td>  24</td>\n",
        "    </tr>\n",
        "    <tr>\n",
        "      <th>526386</th>\n",
        "      <td> 2014-10-26</td>\n",
        "      <td>  1</td>\n",
        "      <td>  25</td>\n",
        "    </tr>\n",
        "    <tr>\n",
        "      <th>526387</th>\n",
        "      <td> 2014-10-26</td>\n",
        "      <td>  1</td>\n",
        "      <td>  26</td>\n",
        "    </tr>\n",
        "    <tr>\n",
        "      <th>526388</th>\n",
        "      <td> 2014-10-26</td>\n",
        "      <td>  1</td>\n",
        "      <td>  27</td>\n",
        "    </tr>\n",
        "    <tr>\n",
        "      <th>526389</th>\n",
        "      <td> 2014-10-26</td>\n",
        "      <td>  1</td>\n",
        "      <td>  28</td>\n",
        "    </tr>\n",
        "    <tr>\n",
        "      <th>526390</th>\n",
        "      <td> 2014-10-26</td>\n",
        "      <td>  1</td>\n",
        "      <td>  29</td>\n",
        "    </tr>\n",
        "    <tr>\n",
        "      <th>526391</th>\n",
        "      <td> 2014-10-26</td>\n",
        "      <td>  1</td>\n",
        "      <td>  30</td>\n",
        "    </tr>\n",
        "    <tr>\n",
        "      <th>...</th>\n",
        "      <td>...</td>\n",
        "      <td>...</td>\n",
        "      <td>...</td>\n",
        "    </tr>\n",
        "    <tr>\n",
        "      <th>526887</th>\n",
        "      <td> 2014-10-26</td>\n",
        "      <td> 45</td>\n",
        "      <td>  82</td>\n",
        "    </tr>\n",
        "    <tr>\n",
        "      <th>526888</th>\n",
        "      <td> 2014-10-26</td>\n",
        "      <td> 45</td>\n",
        "      <td>  83</td>\n",
        "    </tr>\n",
        "    <tr>\n",
        "      <th>526889</th>\n",
        "      <td> 2014-10-26</td>\n",
        "      <td> 45</td>\n",
        "      <td>  84</td>\n",
        "    </tr>\n",
        "    <tr>\n",
        "      <th>526890</th>\n",
        "      <td> 2014-10-26</td>\n",
        "      <td> 45</td>\n",
        "      <td>  85</td>\n",
        "    </tr>\n",
        "    <tr>\n",
        "      <th>526891</th>\n",
        "      <td> 2014-10-26</td>\n",
        "      <td> 45</td>\n",
        "      <td>  86</td>\n",
        "    </tr>\n",
        "    <tr>\n",
        "      <th>526892</th>\n",
        "      <td> 2014-10-26</td>\n",
        "      <td> 45</td>\n",
        "      <td>  87</td>\n",
        "    </tr>\n",
        "    <tr>\n",
        "      <th>526893</th>\n",
        "      <td> 2014-10-26</td>\n",
        "      <td> 45</td>\n",
        "      <td>  88</td>\n",
        "    </tr>\n",
        "    <tr>\n",
        "      <th>526894</th>\n",
        "      <td> 2014-10-26</td>\n",
        "      <td> 45</td>\n",
        "      <td>  89</td>\n",
        "    </tr>\n",
        "    <tr>\n",
        "      <th>526895</th>\n",
        "      <td> 2014-10-26</td>\n",
        "      <td> 45</td>\n",
        "      <td>  90</td>\n",
        "    </tr>\n",
        "    <tr>\n",
        "      <th>526896</th>\n",
        "      <td> 2014-10-26</td>\n",
        "      <td> 45</td>\n",
        "      <td>  91</td>\n",
        "    </tr>\n",
        "    <tr>\n",
        "      <th>526897</th>\n",
        "      <td> 2014-10-26</td>\n",
        "      <td> 45</td>\n",
        "      <td>  92</td>\n",
        "    </tr>\n",
        "    <tr>\n",
        "      <th>526898</th>\n",
        "      <td> 2014-10-26</td>\n",
        "      <td> 45</td>\n",
        "      <td>  93</td>\n",
        "    </tr>\n",
        "    <tr>\n",
        "      <th>526899</th>\n",
        "      <td> 2014-10-26</td>\n",
        "      <td> 45</td>\n",
        "      <td>  94</td>\n",
        "    </tr>\n",
        "    <tr>\n",
        "      <th>526900</th>\n",
        "      <td> 2014-10-26</td>\n",
        "      <td> 45</td>\n",
        "      <td>  95</td>\n",
        "    </tr>\n",
        "    <tr>\n",
        "      <th>526901</th>\n",
        "      <td> 2014-10-26</td>\n",
        "      <td> 45</td>\n",
        "      <td>  96</td>\n",
        "    </tr>\n",
        "    <tr>\n",
        "      <th>526902</th>\n",
        "      <td> 2014-10-26</td>\n",
        "      <td> 45</td>\n",
        "      <td>  97</td>\n",
        "    </tr>\n",
        "    <tr>\n",
        "      <th>526903</th>\n",
        "      <td> 2014-10-26</td>\n",
        "      <td> 45</td>\n",
        "      <td>  98</td>\n",
        "    </tr>\n",
        "    <tr>\n",
        "      <th>526904</th>\n",
        "      <td> 2014-10-26</td>\n",
        "      <td> 45</td>\n",
        "      <td>  99</td>\n",
        "    </tr>\n",
        "    <tr>\n",
        "      <th>526905</th>\n",
        "      <td> 2014-10-26</td>\n",
        "      <td> 45</td>\n",
        "      <td> 100</td>\n",
        "    </tr>\n",
        "    <tr>\n",
        "      <th>526906</th>\n",
        "      <td> 2014-10-26</td>\n",
        "      <td> 45</td>\n",
        "      <td> 101</td>\n",
        "    </tr>\n",
        "    <tr>\n",
        "      <th>526907</th>\n",
        "      <td> 2014-10-26</td>\n",
        "      <td> 45</td>\n",
        "      <td> 102</td>\n",
        "    </tr>\n",
        "    <tr>\n",
        "      <th>526908</th>\n",
        "      <td> 2014-10-26</td>\n",
        "      <td> 45</td>\n",
        "      <td> 103</td>\n",
        "    </tr>\n",
        "    <tr>\n",
        "      <th>526909</th>\n",
        "      <td> 2014-10-26</td>\n",
        "      <td> 45</td>\n",
        "      <td> 104</td>\n",
        "    </tr>\n",
        "    <tr>\n",
        "      <th>526910</th>\n",
        "      <td> 2014-10-26</td>\n",
        "      <td> 45</td>\n",
        "      <td> 105</td>\n",
        "    </tr>\n",
        "    <tr>\n",
        "      <th>526911</th>\n",
        "      <td> 2014-10-26</td>\n",
        "      <td> 45</td>\n",
        "      <td> 106</td>\n",
        "    </tr>\n",
        "    <tr>\n",
        "      <th>526912</th>\n",
        "      <td> 2014-10-26</td>\n",
        "      <td> 45</td>\n",
        "      <td> 107</td>\n",
        "    </tr>\n",
        "    <tr>\n",
        "      <th>526913</th>\n",
        "      <td> 2014-10-26</td>\n",
        "      <td> 45</td>\n",
        "      <td> 108</td>\n",
        "    </tr>\n",
        "    <tr>\n",
        "      <th>526914</th>\n",
        "      <td> 2014-10-26</td>\n",
        "      <td> 45</td>\n",
        "      <td> 109</td>\n",
        "    </tr>\n",
        "    <tr>\n",
        "      <th>526915</th>\n",
        "      <td> 2014-10-26</td>\n",
        "      <td> 45</td>\n",
        "      <td> 110</td>\n",
        "    </tr>\n",
        "    <tr>\n",
        "      <th>526916</th>\n",
        "      <td> 2014-10-26</td>\n",
        "      <td> 45</td>\n",
        "      <td> 111</td>\n",
        "    </tr>\n",
        "  </tbody>\n",
        "</table>\n",
        "<p>555 rows \u00d7 3 columns</p>\n",
        "</div>"
       ],
       "metadata": {},
       "output_type": "pyout",
       "prompt_number": 377,
       "text": [
        "              date  store_nbr  item_nbr\n",
        "526362  2014-10-26          1         1\n",
        "526363  2014-10-26          1         2\n",
        "526364  2014-10-26          1         3\n",
        "526365  2014-10-26          1         4\n",
        "526366  2014-10-26          1         5\n",
        "526367  2014-10-26          1         6\n",
        "526368  2014-10-26          1         7\n",
        "526369  2014-10-26          1         8\n",
        "526370  2014-10-26          1         9\n",
        "526371  2014-10-26          1        10\n",
        "526372  2014-10-26          1        11\n",
        "526373  2014-10-26          1        12\n",
        "526374  2014-10-26          1        13\n",
        "526375  2014-10-26          1        14\n",
        "526376  2014-10-26          1        15\n",
        "526377  2014-10-26          1        16\n",
        "526378  2014-10-26          1        17\n",
        "526379  2014-10-26          1        18\n",
        "526380  2014-10-26          1        19\n",
        "526381  2014-10-26          1        20\n",
        "526382  2014-10-26          1        21\n",
        "526383  2014-10-26          1        22\n",
        "526384  2014-10-26          1        23\n",
        "526385  2014-10-26          1        24\n",
        "526386  2014-10-26          1        25\n",
        "526387  2014-10-26          1        26\n",
        "526388  2014-10-26          1        27\n",
        "526389  2014-10-26          1        28\n",
        "526390  2014-10-26          1        29\n",
        "526391  2014-10-26          1        30\n",
        "...            ...        ...       ...\n",
        "526887  2014-10-26         45        82\n",
        "526888  2014-10-26         45        83\n",
        "526889  2014-10-26         45        84\n",
        "526890  2014-10-26         45        85\n",
        "526891  2014-10-26         45        86\n",
        "526892  2014-10-26         45        87\n",
        "526893  2014-10-26         45        88\n",
        "526894  2014-10-26         45        89\n",
        "526895  2014-10-26         45        90\n",
        "526896  2014-10-26         45        91\n",
        "526897  2014-10-26         45        92\n",
        "526898  2014-10-26         45        93\n",
        "526899  2014-10-26         45        94\n",
        "526900  2014-10-26         45        95\n",
        "526901  2014-10-26         45        96\n",
        "526902  2014-10-26         45        97\n",
        "526903  2014-10-26         45        98\n",
        "526904  2014-10-26         45        99\n",
        "526905  2014-10-26         45       100\n",
        "526906  2014-10-26         45       101\n",
        "526907  2014-10-26         45       102\n",
        "526908  2014-10-26         45       103\n",
        "526909  2014-10-26         45       104\n",
        "526910  2014-10-26         45       105\n",
        "526911  2014-10-26         45       106\n",
        "526912  2014-10-26         45       107\n",
        "526913  2014-10-26         45       108\n",
        "526914  2014-10-26         45       109\n",
        "526915  2014-10-26         45       110\n",
        "526916  2014-10-26         45       111\n",
        "\n",
        "[555 rows x 3 columns]"
       ]
      }
     ],
     "prompt_number": 377
    },
    {
     "cell_type": "code",
     "collapsed": false,
     "input": [
      "sum=0\n",
      "for i in range(1,47):\n",
      "    sum += test[(test.store_nbr==i) & (test.item_nbr==1)].shape[0]\n"
     ],
     "language": "python",
     "metadata": {},
     "outputs": [],
     "prompt_number": 356
    },
    {
     "cell_type": "code",
     "collapsed": false,
     "input": [
      "print sum*111"
     ],
     "language": "python",
     "metadata": {},
     "outputs": [
      {
       "output_type": "stream",
       "stream": "stdout",
       "text": [
        "526917\n"
       ]
      }
     ],
     "prompt_number": 359
    },
    {
     "cell_type": "code",
     "collapsed": false,
     "input": [
      "print type(test.shape)"
     ],
     "language": "python",
     "metadata": {},
     "outputs": [
      {
       "output_type": "stream",
       "stream": "stdout",
       "text": [
        "<type 'tuple'>\n"
       ]
      }
     ],
     "prompt_number": 362
    },
    {
     "cell_type": "code",
     "collapsed": false,
     "input": [
      "weather_event[(weather_event.date == '2012-06-01') & (weather_event.station_nbr==5)]"
     ],
     "language": "python",
     "metadata": {},
     "outputs": [
      {
       "html": [
        "<div style=\"max-height:1000px;max-width:1500px;overflow:auto;\">\n",
        "<table border=\"1\" class=\"dataframe\">\n",
        "  <thead>\n",
        "    <tr style=\"text-align: right;\">\n",
        "      <th></th>\n",
        "      <th>date</th>\n",
        "      <th>station_nbr</th>\n",
        "      <th>snowfall</th>\n",
        "      <th>preciptotal</th>\n",
        "    </tr>\n",
        "  </thead>\n",
        "  <tbody>\n",
        "    <tr>\n",
        "      <th>2892</th>\n",
        "      <td> 2012-06-01</td>\n",
        "      <td> 5</td>\n",
        "      <td> M</td>\n",
        "      <td> M</td>\n",
        "    </tr>\n",
        "  </tbody>\n",
        "</table>\n",
        "</div>"
       ],
       "metadata": {},
       "output_type": "pyout",
       "prompt_number": 446,
       "text": [
        "            date  station_nbr snowfall preciptotal\n",
        "2892  2012-06-01            5        M           M"
       ]
      }
     ],
     "prompt_number": 446
    },
    {
     "cell_type": "code",
     "collapsed": false,
     "input": [
      "weather[weather.preciptotal == 'M'].shape"
     ],
     "language": "python",
     "metadata": {},
     "outputs": [
      {
       "metadata": {},
       "output_type": "pyout",
       "prompt_number": 422,
       "text": [
        "(860, 20)"
       ]
      }
     ],
     "prompt_number": 422
    },
    {
     "cell_type": "code",
     "collapsed": false,
     "input": [
      "dates_missing_data = weather_event[(weather_event.preciptotal == 'M') & (weather_event.snowfall == 'M')]"
     ],
     "language": "python",
     "metadata": {},
     "outputs": [],
     "prompt_number": 437
    },
    {
     "cell_type": "code",
     "collapsed": false,
     "input": [
      "dates_missing_data.head()\n",
      "train[(train.date=='2012-06-01') & (train.store_nbr==35) & (train.units >0)]"
     ],
     "language": "python",
     "metadata": {},
     "outputs": [
      {
       "html": [
        "<div style=\"max-height:1000px;max-width:1500px;overflow:auto;\">\n",
        "<table border=\"1\" class=\"dataframe\">\n",
        "  <thead>\n",
        "    <tr style=\"text-align: right;\">\n",
        "      <th></th>\n",
        "      <th>date</th>\n",
        "      <th>store_nbr</th>\n",
        "      <th>item_nbr</th>\n",
        "      <th>units</th>\n",
        "    </tr>\n",
        "  </thead>\n",
        "  <tbody>\n",
        "    <tr>\n",
        "      <th>746157</th>\n",
        "      <td> 2012-06-01</td>\n",
        "      <td> 35</td>\n",
        "      <td> 16</td>\n",
        "      <td> 21</td>\n",
        "    </tr>\n",
        "    <tr>\n",
        "      <th>746207</th>\n",
        "      <td> 2012-06-01</td>\n",
        "      <td> 35</td>\n",
        "      <td> 66</td>\n",
        "      <td>  9</td>\n",
        "    </tr>\n",
        "    <tr>\n",
        "      <th>746234</th>\n",
        "      <td> 2012-06-01</td>\n",
        "      <td> 35</td>\n",
        "      <td> 93</td>\n",
        "      <td>  5</td>\n",
        "    </tr>\n",
        "  </tbody>\n",
        "</table>\n",
        "</div>"
       ],
       "metadata": {},
       "output_type": "pyout",
       "prompt_number": 448,
       "text": [
        "              date  store_nbr  item_nbr  units\n",
        "746157  2012-06-01         35        16     21\n",
        "746207  2012-06-01         35        66      9\n",
        "746234  2012-06-01         35        93      5"
       ]
      }
     ],
     "prompt_number": 448
    },
    {
     "cell_type": "code",
     "collapsed": false,
     "input": [
      "weather[(weather.preciptotal == 'M') & (weather.snowfall != 'M')].shape"
     ],
     "language": "python",
     "metadata": {},
     "outputs": [
      {
       "metadata": {},
       "output_type": "pyout",
       "prompt_number": 425,
       "text": [
        "(0, 20)"
       ]
      }
     ],
     "prompt_number": 425
    },
    {
     "cell_type": "code",
     "collapsed": false,
     "input": [
      "weather[(weather.preciptotal != 'M') & (weather.snowfall == 'M')].shape"
     ],
     "language": "python",
     "metadata": {},
     "outputs": [
      {
       "metadata": {},
       "output_type": "pyout",
       "prompt_number": 426,
       "text": [
        "(6364, 20)"
       ]
      }
     ],
     "prompt_number": 426
    },
    {
     "cell_type": "code",
     "collapsed": false,
     "input": [
      "print weather.shape"
     ],
     "language": "python",
     "metadata": {},
     "outputs": [
      {
       "output_type": "stream",
       "stream": "stdout",
       "text": [
        "(20517, 20)\n"
       ]
      }
     ],
     "prompt_number": 460
    },
    {
     "cell_type": "code",
     "collapsed": false,
     "input": [
      "weather_event = weather_event[weather_event.snowfall != 'M']\n",
      "print weather_event.shape"
     ],
     "language": "python",
     "metadata": {},
     "outputs": [
      {
       "output_type": "stream",
       "stream": "stdout",
       "text": [
        "(11678, 4)\n"
       ]
      }
     ],
     "prompt_number": 461
    },
    {
     "cell_type": "code",
     "collapsed": false,
     "input": [
      "weather_event = weather_event[weather_event.snowfall != '  T']\n",
      "print weather_event.shape"
     ],
     "language": "python",
     "metadata": {},
     "outputs": [
      {
       "output_type": "stream",
       "stream": "stdout",
       "text": [
        "(11678, 4)\n"
       ]
      }
     ],
     "prompt_number": 462
    },
    {
     "cell_type": "code",
     "collapsed": false,
     "input": [
      "weather_event = weather_event[weather_event.preciptotal != 'M']\n",
      "print weather_event.shape"
     ],
     "language": "python",
     "metadata": {},
     "outputs": [
      {
       "output_type": "stream",
       "stream": "stdout",
       "text": [
        "(11678, 4)\n"
       ]
      }
     ],
     "prompt_number": 463
    },
    {
     "cell_type": "code",
     "collapsed": false,
     "input": [
      "weather_event = weather_event[weather_event.preciptotal != '  T']\n",
      "print weather_event.shape"
     ],
     "language": "python",
     "metadata": {},
     "outputs": [
      {
       "output_type": "stream",
       "stream": "stdout",
       "text": [
        "(11678, 4)\n"
       ]
      }
     ],
     "prompt_number": 464
    },
    {
     "cell_type": "code",
     "collapsed": false,
     "input": [
      "train"
     ],
     "language": "python",
     "metadata": {},
     "outputs": []
    }
   ],
   "metadata": {}
  }
 ]
}